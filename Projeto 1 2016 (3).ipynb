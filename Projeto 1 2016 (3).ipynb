{
 "cells": [
  {
   "cell_type": "markdown",
   "metadata": {},
   "source": [
    "# Projeto 1\n",
    "## perfil dos aposentados"
   ]
  },
  {
   "cell_type": "markdown",
   "metadata": {},
   "source": [
    "**o que fazer:**\n",
    "1. Entender o Dataset\t\n",
    "2. Maniular os dados\n",
    "3. Aplicar o ferramental (var quat/ var quali)*\n",
    "4. Concluir (escrever o Relatorio)*\n",
    "* Se precisar pesquisar fatos que expliquem o comportamento (contexto)"
   ]
  },
  {
   "cell_type": "code",
   "execution_count": 1,
   "metadata": {
    "collapsed": true
   },
   "outputs": [],
   "source": [
    "%matplotlib inline\n",
    "from IPython.display import display, Math, Latex\n",
    "import os\n",
    "import numpy as np\n",
    "import pandas as pd\n",
    "import matplotlib.pyplot as plt\n",
    "dados = pd.read_csv('pes2013R.csv', sep=',')"
   ]
  },
  {
   "cell_type": "code",
   "execution_count": 2,
   "metadata": {
    "collapsed": false
   },
   "outputs": [
    {
     "data": {
      "text/html": [
       "<div>\n",
       "<table border=\"1\" class=\"dataframe\">\n",
       "  <thead>\n",
       "    <tr style=\"text-align: right;\">\n",
       "      <th></th>\n",
       "      <th>Unnamed: 0</th>\n",
       "      <th>V0101</th>\n",
       "      <th>UF</th>\n",
       "      <th>V0102</th>\n",
       "      <th>V0103</th>\n",
       "      <th>V0301</th>\n",
       "      <th>V0302</th>\n",
       "      <th>V3031</th>\n",
       "      <th>V3032</th>\n",
       "      <th>V3033</th>\n",
       "      <th>...</th>\n",
       "      <th>V4741</th>\n",
       "      <th>V4742</th>\n",
       "      <th>V4743</th>\n",
       "      <th>V4745</th>\n",
       "      <th>V4746</th>\n",
       "      <th>V4747</th>\n",
       "      <th>V4748</th>\n",
       "      <th>V4749</th>\n",
       "      <th>V4750</th>\n",
       "      <th>V9993</th>\n",
       "    </tr>\n",
       "  </thead>\n",
       "  <tbody>\n",
       "    <tr>\n",
       "      <th>0</th>\n",
       "      <td>1</td>\n",
       "      <td>2013</td>\n",
       "      <td>11</td>\n",
       "      <td>15</td>\n",
       "      <td>3</td>\n",
       "      <td>1</td>\n",
       "      <td>4</td>\n",
       "      <td>25</td>\n",
       "      <td>8</td>\n",
       "      <td>1971</td>\n",
       "      <td>...</td>\n",
       "      <td>1.0</td>\n",
       "      <td>350.0</td>\n",
       "      <td>3.0</td>\n",
       "      <td>2</td>\n",
       "      <td>2.0</td>\n",
       "      <td>NaN</td>\n",
       "      <td>NaN</td>\n",
       "      <td>2.0</td>\n",
       "      <td>350.0</td>\n",
       "      <td>20150428</td>\n",
       "    </tr>\n",
       "    <tr>\n",
       "      <th>1</th>\n",
       "      <td>2</td>\n",
       "      <td>2013</td>\n",
       "      <td>11</td>\n",
       "      <td>15</td>\n",
       "      <td>4</td>\n",
       "      <td>1</td>\n",
       "      <td>4</td>\n",
       "      <td>20</td>\n",
       "      <td>1</td>\n",
       "      <td>1949</td>\n",
       "      <td>...</td>\n",
       "      <td>2.0</td>\n",
       "      <td>339.0</td>\n",
       "      <td>2.0</td>\n",
       "      <td>1</td>\n",
       "      <td>2.0</td>\n",
       "      <td>NaN</td>\n",
       "      <td>NaN</td>\n",
       "      <td>2.0</td>\n",
       "      <td>339.0</td>\n",
       "      <td>20150428</td>\n",
       "    </tr>\n",
       "    <tr>\n",
       "      <th>2</th>\n",
       "      <td>3</td>\n",
       "      <td>2013</td>\n",
       "      <td>11</td>\n",
       "      <td>15</td>\n",
       "      <td>4</td>\n",
       "      <td>2</td>\n",
       "      <td>4</td>\n",
       "      <td>24</td>\n",
       "      <td>6</td>\n",
       "      <td>2000</td>\n",
       "      <td>...</td>\n",
       "      <td>2.0</td>\n",
       "      <td>339.0</td>\n",
       "      <td>2.0</td>\n",
       "      <td>2</td>\n",
       "      <td>2.0</td>\n",
       "      <td>NaN</td>\n",
       "      <td>NaN</td>\n",
       "      <td>2.0</td>\n",
       "      <td>339.0</td>\n",
       "      <td>20150428</td>\n",
       "    </tr>\n",
       "    <tr>\n",
       "      <th>3</th>\n",
       "      <td>4</td>\n",
       "      <td>2013</td>\n",
       "      <td>11</td>\n",
       "      <td>15</td>\n",
       "      <td>5</td>\n",
       "      <td>1</td>\n",
       "      <td>2</td>\n",
       "      <td>16</td>\n",
       "      <td>5</td>\n",
       "      <td>1990</td>\n",
       "      <td>...</td>\n",
       "      <td>3.0</td>\n",
       "      <td>266.0</td>\n",
       "      <td>2.0</td>\n",
       "      <td>1</td>\n",
       "      <td>1.0</td>\n",
       "      <td>2.0</td>\n",
       "      <td>2.0</td>\n",
       "      <td>1.0</td>\n",
       "      <td>266.0</td>\n",
       "      <td>20150428</td>\n",
       "    </tr>\n",
       "    <tr>\n",
       "      <th>4</th>\n",
       "      <td>5</td>\n",
       "      <td>2013</td>\n",
       "      <td>11</td>\n",
       "      <td>15</td>\n",
       "      <td>5</td>\n",
       "      <td>2</td>\n",
       "      <td>4</td>\n",
       "      <td>18</td>\n",
       "      <td>7</td>\n",
       "      <td>1994</td>\n",
       "      <td>...</td>\n",
       "      <td>3.0</td>\n",
       "      <td>266.0</td>\n",
       "      <td>2.0</td>\n",
       "      <td>5</td>\n",
       "      <td>2.0</td>\n",
       "      <td>NaN</td>\n",
       "      <td>NaN</td>\n",
       "      <td>2.0</td>\n",
       "      <td>266.0</td>\n",
       "      <td>20150428</td>\n",
       "    </tr>\n",
       "  </tbody>\n",
       "</table>\n",
       "<p>5 rows × 331 columns</p>\n",
       "</div>"
      ],
      "text/plain": [
       "   Unnamed: 0  V0101  UF  V0102  V0103  V0301  V0302  V3031  V3032  V3033  \\\n",
       "0           1   2013  11     15      3      1      4     25      8   1971   \n",
       "1           2   2013  11     15      4      1      4     20      1   1949   \n",
       "2           3   2013  11     15      4      2      4     24      6   2000   \n",
       "3           4   2013  11     15      5      1      2     16      5   1990   \n",
       "4           5   2013  11     15      5      2      4     18      7   1994   \n",
       "\n",
       "     ...     V4741  V4742  V4743  V4745  V4746  V4747  V4748  V4749  V4750  \\\n",
       "0    ...       1.0  350.0    3.0      2    2.0    NaN    NaN    2.0  350.0   \n",
       "1    ...       2.0  339.0    2.0      1    2.0    NaN    NaN    2.0  339.0   \n",
       "2    ...       2.0  339.0    2.0      2    2.0    NaN    NaN    2.0  339.0   \n",
       "3    ...       3.0  266.0    2.0      1    1.0    2.0    2.0    1.0  266.0   \n",
       "4    ...       3.0  266.0    2.0      5    2.0    NaN    NaN    2.0  266.0   \n",
       "\n",
       "      V9993  \n",
       "0  20150428  \n",
       "1  20150428  \n",
       "2  20150428  \n",
       "3  20150428  \n",
       "4  20150428  \n",
       "\n",
       "[5 rows x 331 columns]"
      ]
     },
     "execution_count": 2,
     "metadata": {},
     "output_type": "execute_result"
    }
   ],
   "source": [
    "dados.head()"
   ]
  },
  {
   "cell_type": "code",
   "execution_count": 3,
   "metadata": {
    "collapsed": false
   },
   "outputs": [
    {
     "data": {
      "text/plain": [
       "(362555, 331)"
      ]
     },
     "execution_count": 3,
     "metadata": {},
     "output_type": "execute_result"
    }
   ],
   "source": [
    "dados.shape"
   ]
  },
  {
   "cell_type": "raw",
   "metadata": {},
   "source": [
    "#codigos usados\n",
    "V1252 = Rendimento de aposentadoria de instituto de previdência ou do governo federal que recebia, normalmente, no mês de referência\n",
    "V9122 = Era aposentado de instituto de previdência federal (INSS), estadual ou municipal ou do governo federal na semana de referência\n",
    "V0302 = Sexo\n",
    "V0601 = Sabe ler e escrever(1- sim/3 - não)\n",
    "\n",
    "V6007 = 01\tElementar (primário)\n",
    "        02\tMédio 1º ciclo (ginasial, etc.)\n",
    "        03\tMédio 2º ciclo (científico, clássico, etc.)\n",
    "        04\tRegular do ensino fundamental ou do 1º grau\n",
    "        05\tRegular do ensino médio ou do 2º grau\n",
    "        06\tEducação de jovens e adultos ou supletivo do ensino fundamental ou do 1º grau\n",
    "        07\tEducação de jovens e adultos ou supletivo de ensino médio ou do 2º grau\n",
    "        08\tSuperior de graduação\n",
    "        09\tMestrado ou doutorado\n",
    "        10\tAlfabetização de jovens e adultos\n",
    "        11\tCreche\n",
    "        12\tClasse de alfabetização - CA \n",
    "        13\tMaternal, jardim de infância etc.\n",
    "        Não aplicável\n",
    "V0404 = etnia\n",
    "        02\tBranca\n",
    "        04\tPreta\n",
    "        06\tAmarela\n",
    "        08\tParda\n",
    "        00\tIndígena\n",
    "        09\tSem declaração\n",
    "V4728 = Código de situação censitária\n",
    "        01\tUrbana - Cidade ou vila, área urbanizada\n",
    "        02\tUrbana - Cidade ou vila, área não-urbanizada\n",
    "        03\tUrbana - Área urbana isolada\n",
    "        04\tRural - Aglomerado rural de extensão urbana\n",
    "        05\tRural - Aglomerado rural, isolado, povoado\n",
    "        06\tRural - Aglomerado rural, isolado, núcleo\n",
    "        07\tRural - Aglomerado rural, isolado, outros aglomerados\n",
    "        08\tRural – Zona rural exclusive aglomerado rural \n",
    "V4720= Rendimento mensal do trabalho\n",
    "V9114 = carteira de trabalho assinada nesse último trabalho \n",
    "V9083 = Tinha carteira de trabalho assinada nesse trabalho anterior\n",
    "V06112 = Telefone celular\n",
    "\n",
    "\n"
   ]
  },
  {
   "cell_type": "code",
   "execution_count": 77,
   "metadata": {
    "collapsed": false
   },
   "outputs": [
    {
     "data": {
      "text/html": [
       "<div>\n",
       "<table border=\"1\" class=\"dataframe\">\n",
       "  <thead>\n",
       "    <tr style=\"text-align: right;\">\n",
       "      <th>V0302</th>\n",
       "      <th>Masculino</th>\n",
       "      <th>Feminino</th>\n",
       "    </tr>\n",
       "    <tr>\n",
       "      <th>V4728</th>\n",
       "      <th></th>\n",
       "      <th></th>\n",
       "    </tr>\n",
       "  </thead>\n",
       "  <tbody>\n",
       "    <tr>\n",
       "      <th>urbana</th>\n",
       "      <td>11957</td>\n",
       "      <td>12196</td>\n",
       "    </tr>\n",
       "    <tr>\n",
       "      <th>urbana1</th>\n",
       "      <td>194</td>\n",
       "      <td>166</td>\n",
       "    </tr>\n",
       "    <tr>\n",
       "      <th>urbana2</th>\n",
       "      <td>75</td>\n",
       "      <td>61</td>\n",
       "    </tr>\n",
       "    <tr>\n",
       "      <th>rural</th>\n",
       "      <td>31</td>\n",
       "      <td>41</td>\n",
       "    </tr>\n",
       "    <tr>\n",
       "      <th>rural1</th>\n",
       "      <td>254</td>\n",
       "      <td>304</td>\n",
       "    </tr>\n",
       "    <tr>\n",
       "      <th>rural2</th>\n",
       "      <td>7</td>\n",
       "      <td>3</td>\n",
       "    </tr>\n",
       "    <tr>\n",
       "      <th>rural3</th>\n",
       "      <td>10</td>\n",
       "      <td>11</td>\n",
       "    </tr>\n",
       "    <tr>\n",
       "      <th>rural4</th>\n",
       "      <td>2033</td>\n",
       "      <td>2138</td>\n",
       "    </tr>\n",
       "  </tbody>\n",
       "</table>\n",
       "</div>"
      ],
      "text/plain": [
       "V0302    Masculino  Feminino\n",
       "V4728                       \n",
       "urbana       11957     12196\n",
       "urbana1        194       166\n",
       "urbana2         75        61\n",
       "rural           31        41\n",
       "rural1         254       304\n",
       "rural2           7         3\n",
       "rural3          10        11\n",
       "rural4        2033      2138"
      ]
     },
     "execution_count": 77,
     "metadata": {},
     "output_type": "execute_result"
    }
   ],
   "source": [
    "ct11= pd.crosstab(b.V4728,b.V0302)\n",
    "ct11"
   ]
  },
  {
   "cell_type": "code",
   "execution_count": 76,
   "metadata": {
    "collapsed": false
   },
   "outputs": [
    {
     "data": {
      "text/plain": [
       "Feminino     51.427508\n",
       "Masculino    48.572492\n",
       "Name: V0302, dtype: float64"
      ]
     },
     "execution_count": 76,
     "metadata": {},
     "output_type": "execute_result"
    }
   ],
   "source": [
    "dados.V0302.value_counts(True)*100"
   ]
  },
  {
   "cell_type": "code",
   "execution_count": 74,
   "metadata": {
    "collapsed": true
   },
   "outputs": [],
   "source": [
    "dados.V0302 = dados.V0302.astype('category')\n",
    "dados.V0302.cat.categories = ('Masculino', 'Feminino')"
   ]
  },
  {
   "cell_type": "code",
   "execution_count": 4,
   "metadata": {
    "collapsed": false
   },
   "outputs": [],
   "source": [
    "b = dados[(dados.V9122==2)& (dados.V4720<9999999999)& (~dados.V6007.isnull())& (~dados.V06112.isnull())]"
   ]
  },
  {
   "cell_type": "code",
   "execution_count": 5,
   "metadata": {
    "collapsed": false
   },
   "outputs": [
    {
     "data": {
      "text/plain": [
       "(29481, 331)"
      ]
     },
     "execution_count": 5,
     "metadata": {},
     "output_type": "execute_result"
    }
   ],
   "source": [
    "b = b.copy()\n",
    "# Vamos fazer o índice recomeçar em 1 porque isso facilita a troca de dados com o numpy\n",
    "b.index = pd.Series(range(len(b)))\n",
    "b.shape"
   ]
  },
  {
   "cell_type": "code",
   "execution_count": 6,
   "metadata": {
    "collapsed": false
   },
   "outputs": [
    {
     "data": {
      "text/html": [
       "<div>\n",
       "<table border=\"1\" class=\"dataframe\">\n",
       "  <thead>\n",
       "    <tr style=\"text-align: right;\">\n",
       "      <th></th>\n",
       "      <th>Unnamed: 0</th>\n",
       "      <th>V0101</th>\n",
       "      <th>UF</th>\n",
       "      <th>V0102</th>\n",
       "      <th>V0103</th>\n",
       "      <th>V0301</th>\n",
       "      <th>V0302</th>\n",
       "      <th>V3031</th>\n",
       "      <th>V3032</th>\n",
       "      <th>V3033</th>\n",
       "      <th>...</th>\n",
       "      <th>V4741</th>\n",
       "      <th>V4742</th>\n",
       "      <th>V4743</th>\n",
       "      <th>V4745</th>\n",
       "      <th>V4746</th>\n",
       "      <th>V4747</th>\n",
       "      <th>V4748</th>\n",
       "      <th>V4749</th>\n",
       "      <th>V4750</th>\n",
       "      <th>V9993</th>\n",
       "    </tr>\n",
       "  </thead>\n",
       "  <tbody>\n",
       "    <tr>\n",
       "      <th>0</th>\n",
       "      <td>35</td>\n",
       "      <td>2013</td>\n",
       "      <td>11</td>\n",
       "      <td>23</td>\n",
       "      <td>3</td>\n",
       "      <td>1</td>\n",
       "      <td>4</td>\n",
       "      <td>16</td>\n",
       "      <td>4</td>\n",
       "      <td>1949</td>\n",
       "      <td>...</td>\n",
       "      <td>1.0</td>\n",
       "      <td>1178.0</td>\n",
       "      <td>4.0</td>\n",
       "      <td>2</td>\n",
       "      <td>1.0</td>\n",
       "      <td>2.0</td>\n",
       "      <td>2.0</td>\n",
       "      <td>1.0</td>\n",
       "      <td>1178.0</td>\n",
       "      <td>20150428</td>\n",
       "    </tr>\n",
       "    <tr>\n",
       "      <th>1</th>\n",
       "      <td>88</td>\n",
       "      <td>2013</td>\n",
       "      <td>11</td>\n",
       "      <td>31</td>\n",
       "      <td>6</td>\n",
       "      <td>1</td>\n",
       "      <td>2</td>\n",
       "      <td>24</td>\n",
       "      <td>3</td>\n",
       "      <td>1945</td>\n",
       "      <td>...</td>\n",
       "      <td>3.0</td>\n",
       "      <td>559.0</td>\n",
       "      <td>3.0</td>\n",
       "      <td>2</td>\n",
       "      <td>2.0</td>\n",
       "      <td>NaN</td>\n",
       "      <td>NaN</td>\n",
       "      <td>2.0</td>\n",
       "      <td>559.0</td>\n",
       "      <td>20150428</td>\n",
       "    </tr>\n",
       "    <tr>\n",
       "      <th>2</th>\n",
       "      <td>172</td>\n",
       "      <td>2013</td>\n",
       "      <td>11</td>\n",
       "      <td>40</td>\n",
       "      <td>15</td>\n",
       "      <td>1</td>\n",
       "      <td>2</td>\n",
       "      <td>7</td>\n",
       "      <td>11</td>\n",
       "      <td>1967</td>\n",
       "      <td>...</td>\n",
       "      <td>2.0</td>\n",
       "      <td>689.0</td>\n",
       "      <td>4.0</td>\n",
       "      <td>2</td>\n",
       "      <td>2.0</td>\n",
       "      <td>NaN</td>\n",
       "      <td>NaN</td>\n",
       "      <td>2.0</td>\n",
       "      <td>689.0</td>\n",
       "      <td>20150428</td>\n",
       "    </tr>\n",
       "    <tr>\n",
       "      <th>3</th>\n",
       "      <td>188</td>\n",
       "      <td>2013</td>\n",
       "      <td>11</td>\n",
       "      <td>58</td>\n",
       "      <td>4</td>\n",
       "      <td>2</td>\n",
       "      <td>4</td>\n",
       "      <td>28</td>\n",
       "      <td>12</td>\n",
       "      <td>1954</td>\n",
       "      <td>...</td>\n",
       "      <td>2.0</td>\n",
       "      <td>678.0</td>\n",
       "      <td>3.0</td>\n",
       "      <td>2</td>\n",
       "      <td>2.0</td>\n",
       "      <td>NaN</td>\n",
       "      <td>NaN</td>\n",
       "      <td>2.0</td>\n",
       "      <td>678.0</td>\n",
       "      <td>20150428</td>\n",
       "    </tr>\n",
       "    <tr>\n",
       "      <th>4</th>\n",
       "      <td>336</td>\n",
       "      <td>2013</td>\n",
       "      <td>11</td>\n",
       "      <td>82</td>\n",
       "      <td>4</td>\n",
       "      <td>2</td>\n",
       "      <td>4</td>\n",
       "      <td>18</td>\n",
       "      <td>1</td>\n",
       "      <td>1956</td>\n",
       "      <td>...</td>\n",
       "      <td>5.0</td>\n",
       "      <td>335.0</td>\n",
       "      <td>2.0</td>\n",
       "      <td>2</td>\n",
       "      <td>1.0</td>\n",
       "      <td>1.0</td>\n",
       "      <td>1.0</td>\n",
       "      <td>1.0</td>\n",
       "      <td>489.0</td>\n",
       "      <td>20150428</td>\n",
       "    </tr>\n",
       "  </tbody>\n",
       "</table>\n",
       "<p>5 rows × 331 columns</p>\n",
       "</div>"
      ],
      "text/plain": [
       "   Unnamed: 0  V0101  UF  V0102  V0103  V0301  V0302  V3031  V3032  V3033  \\\n",
       "0          35   2013  11     23      3      1      4     16      4   1949   \n",
       "1          88   2013  11     31      6      1      2     24      3   1945   \n",
       "2         172   2013  11     40     15      1      2      7     11   1967   \n",
       "3         188   2013  11     58      4      2      4     28     12   1954   \n",
       "4         336   2013  11     82      4      2      4     18      1   1956   \n",
       "\n",
       "     ...     V4741   V4742  V4743  V4745  V4746  V4747  V4748  V4749   V4750  \\\n",
       "0    ...       1.0  1178.0    4.0      2    1.0    2.0    2.0    1.0  1178.0   \n",
       "1    ...       3.0   559.0    3.0      2    2.0    NaN    NaN    2.0   559.0   \n",
       "2    ...       2.0   689.0    4.0      2    2.0    NaN    NaN    2.0   689.0   \n",
       "3    ...       2.0   678.0    3.0      2    2.0    NaN    NaN    2.0   678.0   \n",
       "4    ...       5.0   335.0    2.0      2    1.0    1.0    1.0    1.0   489.0   \n",
       "\n",
       "      V9993  \n",
       "0  20150428  \n",
       "1  20150428  \n",
       "2  20150428  \n",
       "3  20150428  \n",
       "4  20150428  \n",
       "\n",
       "[5 rows x 331 columns]"
      ]
     },
     "execution_count": 6,
     "metadata": {},
     "output_type": "execute_result"
    }
   ],
   "source": [
    "b.head()"
   ]
  },
  {
   "cell_type": "code",
   "execution_count": 7,
   "metadata": {
    "collapsed": false,
    "scrolled": true
   },
   "outputs": [],
   "source": [
    "b.V6007 = b.V6007.astype('category')\n",
    "b.V6007.cat.categories = ('Elementar', 'Médio 1º ciclo', 'Médio 2º ciclo', 'Regular do ensino fundamental ou do 1º grau', 'Regular do ensino médio ou do 2º grau', 'supletivo do ensino fundamental', 'supletivo de ensino médio', 'Superior de graduação', 'Mestrado ou doutorado', 'Alfabetização de jovens e adultos','Creche', 'Classe de alfabetização', 'Maternal')"
   ]
  },
  {
   "cell_type": "code",
   "execution_count": 8,
   "metadata": {
    "collapsed": false
   },
   "outputs": [
    {
     "data": {
      "text/plain": [
       "Elementar                                      13759\n",
       "Superior de graduação                           3722\n",
       "Regular do ensino fundamental ou do 1º grau     3052\n",
       "Regular do ensino médio ou do 2º grau           2748\n",
       "Médio 1º ciclo                                  2582\n",
       "Médio 2º ciclo                                  2044\n",
       "Classe de alfabetização                          375\n",
       "supletivo de ensino médio                        356\n",
       "supletivo do ensino fundamental                  355\n",
       "Alfabetização de jovens e adultos                251\n",
       "Mestrado ou doutorado                            223\n",
       "Maternal                                           7\n",
       "Creche                                             7\n",
       "Name: V6007, dtype: int64"
      ]
     },
     "execution_count": 8,
     "metadata": {},
     "output_type": "execute_result"
    }
   ],
   "source": [
    "b.V6007.value_counts()"
   ]
  },
  {
   "cell_type": "code",
   "execution_count": 9,
   "metadata": {
    "collapsed": true
   },
   "outputs": [],
   "source": [
    "b.V0302 = b.V0302.astype('category')\n",
    "b.V0302.cat.categories = ('Masculino', 'Feminino')"
   ]
  },
  {
   "cell_type": "code",
   "execution_count": 10,
   "metadata": {
    "collapsed": false
   },
   "outputs": [
    {
     "data": {
      "text/plain": [
       "Feminino     14920\n",
       "Masculino    14561\n",
       "Name: V0302, dtype: int64"
      ]
     },
     "execution_count": 10,
     "metadata": {},
     "output_type": "execute_result"
    }
   ],
   "source": [
    "b.V0302.value_counts() "
   ]
  },
  {
   "cell_type": "code",
   "execution_count": 11,
   "metadata": {
    "collapsed": false
   },
   "outputs": [
    {
     "data": {
      "text/plain": [
       "Feminino     50.61\n",
       "Masculino    49.39\n",
       "Name: V0302, dtype: float64"
      ]
     },
     "execution_count": 11,
     "metadata": {},
     "output_type": "execute_result"
    }
   ],
   "source": [
    "sexo_ocorrencia = b.V0302.value_counts(True)*100 \n",
    "sexo_ocorrencia.round(decimals=2)  "
   ]
  },
  {
   "cell_type": "code",
   "execution_count": 12,
   "metadata": {
    "collapsed": false
   },
   "outputs": [
    {
     "data": {
      "text/plain": [
       "<matplotlib.axes._subplots.AxesSubplot at 0x774109a6a0>"
      ]
     },
     "execution_count": 12,
     "metadata": {},
     "output_type": "execute_result"
    },
    {
     "data": {
      "image/png": "[encoded data removed]",
      "text/plain": [
       "<matplotlib.figure.Figure at 0x774109a128>"
      ]
     },
     "metadata": {},
     "output_type": "display_data"
    }
   ],
   "source": [
    "sexo_ocorrencia .plot(kind=\"pie\")"
   ]
  },
  {
   "cell_type": "code",
   "execution_count": 13,
   "metadata": {
    "collapsed": false
   },
   "outputs": [
    {
     "data": {
      "text/plain": [
       "count    29481.000000\n",
       "mean        66.381602\n",
       "std         10.155950\n",
       "min         12.000000\n",
       "25%         60.000000\n",
       "50%         66.000000\n",
       "75%         73.000000\n",
       "max        109.000000\n",
       "Name: V8005, dtype: float64"
      ]
     },
     "execution_count": 13,
     "metadata": {},
     "output_type": "execute_result"
    }
   ],
   "source": [
    "b.V8005.describe()"
   ]
  },
  {
   "cell_type": "code",
   "execution_count": 14,
   "metadata": {
    "collapsed": false
   },
   "outputs": [
    {
     "data": {
      "text/plain": [
       "<matplotlib.axes._subplots.AxesSubplot at 0x77411d9dd8>"
      ]
     },
     "execution_count": 14,
     "metadata": {},
     "output_type": "execute_result"
    },
    {
     "data": {
      "image/png": "[encoded data removed]",
      "text/plain": [
       "<matplotlib.figure.Figure at 0x774122df28>"
      ]
     },
     "metadata": {},
     "output_type": "display_data"
    }
   ],
   "source": [
    "b.V8005.plot(kind='hist', color=('red'), legend=False)"
   ]
  },
  {
   "cell_type": "code",
   "execution_count": 15,
   "metadata": {
    "collapsed": true
   },
   "outputs": [],
   "source": [
    "faixas = (20,30,40,50,60,70,80,90,100,110)\n",
    "new_index=[20,30,40,50,60,70,80,90,100]"
   ]
  },
  {
   "cell_type": "code",
   "execution_count": 16,
   "metadata": {
    "collapsed": false
   },
   "outputs": [
    {
     "data": {
      "text/plain": [
       "20        70\n",
       "30       252\n",
       "40      1116\n",
       "50      6394\n",
       "60     12070\n",
       "70      7070\n",
       "80      2229\n",
       "90       257\n",
       "100       11\n",
       "Name: V8005, dtype: int64"
      ]
     },
     "execution_count": 16,
     "metadata": {},
     "output_type": "execute_result"
    }
   ],
   "source": [
    "faixa_idade=b.V8005.value_counts(bins=faixas)\n",
    "Idade=faixa_idade.reindex(new_index)\n",
    "Idade"
   ]
  },
  {
   "cell_type": "code",
   "execution_count": 17,
   "metadata": {
    "collapsed": false
   },
   "outputs": [
    {
     "data": {
      "text/plain": [
       "<matplotlib.axes._subplots.AxesSubplot at 0x7741291198>"
      ]
     },
     "execution_count": 17,
     "metadata": {},
     "output_type": "execute_result"
    },
    {
     "data": {
      "image/png": "[encoded data removed]",
      "text/plain": [
       "<matplotlib.figure.Figure at 0x77411152e8>"
      ]
     },
     "metadata": {},
     "output_type": "display_data"
    }
   ],
   "source": [
    "b.V8005.plot(kind='box', color=('red'))"
   ]
  },
  {
   "cell_type": "code",
   "execution_count": 18,
   "metadata": {
    "collapsed": false
   },
   "outputs": [
    {
     "data": {
      "text/plain": [
       "8    174042\n",
       "2    155218\n",
       "4     30130\n",
       "0      1688\n",
       "6      1471\n",
       "9         6\n",
       "Name: V0404, dtype: int64"
      ]
     },
     "execution_count": 18,
     "metadata": {},
     "output_type": "execute_result"
    }
   ],
   "source": [
    "dados.V0404.value_counts()"
   ]
  },
  {
   "cell_type": "code",
   "execution_count": 19,
   "metadata": {
    "collapsed": false
   },
   "outputs": [],
   "source": [
    "dados.V0404 = dados.V0404.astype('category')\n",
    "dados.V0404.cat.categories = ('Indigena', 'Branca', 'Preta', 'Amarela', 'Parda','sem declaração')"
   ]
  },
  {
   "cell_type": "code",
   "execution_count": 20,
   "metadata": {
    "collapsed": false
   },
   "outputs": [
    {
     "data": {
      "text/plain": [
       "Parda             48.00\n",
       "Branca            42.81\n",
       "Preta              8.31\n",
       "Indigena           0.47\n",
       "Amarela            0.41\n",
       "sem declaração     0.00\n",
       "Name: V0404, dtype: float64"
      ]
     },
     "execution_count": 20,
     "metadata": {},
     "output_type": "execute_result"
    }
   ],
   "source": [
    "etnia_ocorrencia_pop = dados.V0404.value_counts(True)*100 \n",
    "etnia_ocorrencia_pop.round(decimals=2) "
   ]
  },
  {
   "cell_type": "code",
   "execution_count": 21,
   "metadata": {
    "collapsed": false
   },
   "outputs": [
    {
     "data": {
      "text/plain": [
       "<matplotlib.axes._subplots.AxesSubplot at 0x7741ec2fd0>"
      ]
     },
     "execution_count": 21,
     "metadata": {},
     "output_type": "execute_result"
    },
    {
     "data": {
      "image/png": "[encoded data removed]",
      "text/plain": [
       "<matplotlib.figure.Figure at 0x773d790128>"
      ]
     },
     "metadata": {},
     "output_type": "display_data"
    }
   ],
   "source": [
    "etnia_ocorrencia_pop .plot(kind=\"pie\")"
   ]
  },
  {
   "cell_type": "code",
   "execution_count": 22,
   "metadata": {
    "collapsed": false
   },
   "outputs": [
    {
     "data": {
      "text/plain": [
       "2    16314\n",
       "8    10603\n",
       "4     2277\n",
       "6      200\n",
       "0       87\n",
       "Name: V0404, dtype: int64"
      ]
     },
     "execution_count": 22,
     "metadata": {},
     "output_type": "execute_result"
    }
   ],
   "source": [
    "b.V0404.value_counts()"
   ]
  },
  {
   "cell_type": "code",
   "execution_count": 23,
   "metadata": {
    "collapsed": true
   },
   "outputs": [],
   "source": [
    "b.V0404 = b.V0404.astype('category')\n",
    "b.V0404.cat.categories = ('Indigena', 'Branca', 'Preta', 'Amarela', 'Parda')"
   ]
  },
  {
   "cell_type": "code",
   "execution_count": 24,
   "metadata": {
    "collapsed": false
   },
   "outputs": [
    {
     "data": {
      "text/plain": [
       "Branca      16314\n",
       "Parda       10603\n",
       "Preta        2277\n",
       "Amarela       200\n",
       "Indigena       87\n",
       "Name: V0404, dtype: int64"
      ]
     },
     "execution_count": 24,
     "metadata": {},
     "output_type": "execute_result"
    }
   ],
   "source": [
    "b.V0404.value_counts()"
   ]
  },
  {
   "cell_type": "code",
   "execution_count": 25,
   "metadata": {
    "collapsed": false
   },
   "outputs": [
    {
     "data": {
      "text/plain": [
       "Branca      55.34\n",
       "Parda       35.97\n",
       "Preta        7.72\n",
       "Amarela      0.68\n",
       "Indigena     0.30\n",
       "Name: V0404, dtype: float64"
      ]
     },
     "execution_count": 25,
     "metadata": {},
     "output_type": "execute_result"
    }
   ],
   "source": [
    "etnia_ocorrencia = b.V0404.value_counts(True)*100 \n",
    "etnia_ocorrencia.round(decimals=2) "
   ]
  },
  {
   "cell_type": "code",
   "execution_count": 26,
   "metadata": {
    "collapsed": false
   },
   "outputs": [
    {
     "data": {
      "text/plain": [
       "<matplotlib.axes._subplots.AxesSubplot at 0x7741306588>"
      ]
     },
     "execution_count": 26,
     "metadata": {},
     "output_type": "execute_result"
    },
    {
     "data": {
      "image/png": "[encoded data removed]",
      "text/plain": [
       "<matplotlib.figure.Figure at 0x7741e2b6d8>"
      ]
     },
     "metadata": {},
     "output_type": "display_data"
    }
   ],
   "source": [
    "etnia_ocorrencia .plot(kind=\"pie\")"
   ]
  },
  {
   "cell_type": "code",
   "execution_count": 27,
   "metadata": {
    "collapsed": false
   },
   "outputs": [
    {
     "data": {
      "text/html": [
       "<div>\n",
       "<table border=\"1\" class=\"dataframe\">\n",
       "  <thead>\n",
       "    <tr style=\"text-align: right;\">\n",
       "      <th>V0302</th>\n",
       "      <th>Masculino</th>\n",
       "      <th>Feminino</th>\n",
       "    </tr>\n",
       "    <tr>\n",
       "      <th>V6007</th>\n",
       "      <th></th>\n",
       "      <th></th>\n",
       "    </tr>\n",
       "  </thead>\n",
       "  <tbody>\n",
       "    <tr>\n",
       "      <th>Elementar</th>\n",
       "      <td>6877</td>\n",
       "      <td>6882</td>\n",
       "    </tr>\n",
       "    <tr>\n",
       "      <th>Médio 1º ciclo</th>\n",
       "      <td>1376</td>\n",
       "      <td>1206</td>\n",
       "    </tr>\n",
       "    <tr>\n",
       "      <th>Médio 2º ciclo</th>\n",
       "      <td>981</td>\n",
       "      <td>1063</td>\n",
       "    </tr>\n",
       "    <tr>\n",
       "      <th>Regular do ensino fundamental ou do 1º grau</th>\n",
       "      <td>1682</td>\n",
       "      <td>1370</td>\n",
       "    </tr>\n",
       "    <tr>\n",
       "      <th>Regular do ensino médio ou do 2º grau</th>\n",
       "      <td>1386</td>\n",
       "      <td>1362</td>\n",
       "    </tr>\n",
       "    <tr>\n",
       "      <th>supletivo do ensino fundamental</th>\n",
       "      <td>138</td>\n",
       "      <td>217</td>\n",
       "    </tr>\n",
       "    <tr>\n",
       "      <th>supletivo de ensino médio</th>\n",
       "      <td>181</td>\n",
       "      <td>175</td>\n",
       "    </tr>\n",
       "    <tr>\n",
       "      <th>Superior de graduação</th>\n",
       "      <td>1556</td>\n",
       "      <td>2166</td>\n",
       "    </tr>\n",
       "    <tr>\n",
       "      <th>Mestrado ou doutorado</th>\n",
       "      <td>108</td>\n",
       "      <td>115</td>\n",
       "    </tr>\n",
       "    <tr>\n",
       "      <th>Alfabetização de jovens e adultos</th>\n",
       "      <td>108</td>\n",
       "      <td>143</td>\n",
       "    </tr>\n",
       "    <tr>\n",
       "      <th>Creche</th>\n",
       "      <td>4</td>\n",
       "      <td>3</td>\n",
       "    </tr>\n",
       "    <tr>\n",
       "      <th>Classe de alfabetização</th>\n",
       "      <td>163</td>\n",
       "      <td>212</td>\n",
       "    </tr>\n",
       "    <tr>\n",
       "      <th>Maternal</th>\n",
       "      <td>1</td>\n",
       "      <td>6</td>\n",
       "    </tr>\n",
       "  </tbody>\n",
       "</table>\n",
       "</div>"
      ],
      "text/plain": [
       "V0302                                        Masculino  Feminino\n",
       "V6007                                                           \n",
       "Elementar                                         6877      6882\n",
       "Médio 1º ciclo                                    1376      1206\n",
       "Médio 2º ciclo                                     981      1063\n",
       "Regular do ensino fundamental ou do 1º grau       1682      1370\n",
       "Regular do ensino médio ou do 2º grau             1386      1362\n",
       "supletivo do ensino fundamental                    138       217\n",
       "supletivo de ensino médio                          181       175\n",
       "Superior de graduação                             1556      2166\n",
       "Mestrado ou doutorado                              108       115\n",
       "Alfabetização de jovens e adultos                  108       143\n",
       "Creche                                               4         3\n",
       "Classe de alfabetização                            163       212\n",
       "Maternal                                             1         6"
      ]
     },
     "execution_count": 27,
     "metadata": {},
     "output_type": "execute_result"
    }
   ],
   "source": [
    "ct10 = pd.crosstab(b.V6007, b.V0302)\n",
    "ct10"
   ]
  },
  {
   "cell_type": "code",
   "execution_count": 28,
   "metadata": {
    "collapsed": false
   },
   "outputs": [
    {
     "data": {
      "text/html": [
       "<div>\n",
       "<table border=\"1\" class=\"dataframe\">\n",
       "  <thead>\n",
       "    <tr style=\"text-align: right;\">\n",
       "      <th>V0302</th>\n",
       "      <th>Masculino</th>\n",
       "      <th>Feminino</th>\n",
       "    </tr>\n",
       "    <tr>\n",
       "      <th>V0404</th>\n",
       "      <th></th>\n",
       "      <th></th>\n",
       "    </tr>\n",
       "  </thead>\n",
       "  <tbody>\n",
       "    <tr>\n",
       "      <th>Indigena</th>\n",
       "      <td>36</td>\n",
       "      <td>51</td>\n",
       "    </tr>\n",
       "    <tr>\n",
       "      <th>Branca</th>\n",
       "      <td>7941</td>\n",
       "      <td>8373</td>\n",
       "    </tr>\n",
       "    <tr>\n",
       "      <th>Preta</th>\n",
       "      <td>1202</td>\n",
       "      <td>1075</td>\n",
       "    </tr>\n",
       "    <tr>\n",
       "      <th>Amarela</th>\n",
       "      <td>89</td>\n",
       "      <td>111</td>\n",
       "    </tr>\n",
       "    <tr>\n",
       "      <th>Parda</th>\n",
       "      <td>5293</td>\n",
       "      <td>5310</td>\n",
       "    </tr>\n",
       "  </tbody>\n",
       "</table>\n",
       "</div>"
      ],
      "text/plain": [
       "V0302     Masculino  Feminino\n",
       "V0404                        \n",
       "Indigena         36        51\n",
       "Branca         7941      8373\n",
       "Preta          1202      1075\n",
       "Amarela          89       111\n",
       "Parda          5293      5310"
      ]
     },
     "execution_count": 28,
     "metadata": {},
     "output_type": "execute_result"
    }
   ],
   "source": [
    "ct1 = pd.crosstab(b.V0404, b.V0302)\n",
    "ct1"
   ]
  },
  {
   "cell_type": "code",
   "execution_count": 29,
   "metadata": {
    "collapsed": false
   },
   "outputs": [
    {
     "data": {
      "text/plain": [
       "1    24153\n",
       "8     4171\n",
       "5      558\n",
       "2      360\n",
       "3      136\n",
       "4       72\n",
       "7       21\n",
       "6       10\n",
       "Name: V4728, dtype: int64"
      ]
     },
     "execution_count": 29,
     "metadata": {},
     "output_type": "execute_result"
    }
   ],
   "source": [
    "b.V4728.value_counts()"
   ]
  },
  {
   "cell_type": "code",
   "execution_count": 30,
   "metadata": {
    "collapsed": false
   },
   "outputs": [
    {
     "data": {
      "text/plain": [
       "urbana     24153\n",
       "rural4      4171\n",
       "rural1       558\n",
       "urbana1      360\n",
       "urbana2      136\n",
       "rural         72\n",
       "rural3        21\n",
       "rural2        10\n",
       "Name: V4728, dtype: int64"
      ]
     },
     "execution_count": 30,
     "metadata": {},
     "output_type": "execute_result"
    }
   ],
   "source": [
    "b.V4728 = b.V4728.astype('category')\n",
    "b.V4728.cat.categories = ('urbana', 'urbana1','urbana2','rural','rural1','rural2','rural3','rural4')\n",
    "b.V4728.value_counts()"
   ]
  },
  {
   "cell_type": "code",
   "execution_count": 31,
   "metadata": {
    "collapsed": false
   },
   "outputs": [
    {
     "data": {
      "text/plain": [
       "urbana     81.93\n",
       "rural4     14.15\n",
       "rural1      1.89\n",
       "urbana1     1.22\n",
       "urbana2     0.46\n",
       "rural       0.24\n",
       "rural3      0.07\n",
       "rural2      0.03\n",
       "Name: V4728, dtype: float64"
      ]
     },
     "execution_count": 31,
     "metadata": {},
     "output_type": "execute_result"
    }
   ],
   "source": [
    "moradia_ocorrencia = b.V4728.value_counts(True)*100\n",
    "moradia_ocorrencia.round(decimals=2) \n"
   ]
  },
  {
   "cell_type": "code",
   "execution_count": 32,
   "metadata": {
    "collapsed": false
   },
   "outputs": [
    {
     "data": {
      "text/plain": [
       "<matplotlib.axes._subplots.AxesSubplot at 0x7741e9ba20>"
      ]
     },
     "execution_count": 32,
     "metadata": {},
     "output_type": "execute_result"
    },
    {
     "data": {
      "image/png": "[encoded data removed]",
      "text/plain": [
       "<matplotlib.figure.Figure at 0x77411aca90>"
      ]
     },
     "metadata": {},
     "output_type": "display_data"
    }
   ],
   "source": [
    "moradia_ocorrencia.plot(kind=\"pie\")"
   ]
  },
  {
   "cell_type": "code",
   "execution_count": 33,
   "metadata": {
    "collapsed": false
   },
   "outputs": [
    {
     "data": {
      "text/plain": [
       "sim    18481\n",
       "não    11000\n",
       "Name: V06112, dtype: int64"
      ]
     },
     "execution_count": 33,
     "metadata": {},
     "output_type": "execute_result"
    }
   ],
   "source": [
    "b.V06112 = b.V06112 .astype('category')\n",
    "b.V06112 .cat.categories = ('sim', 'não')\n",
    "b.V06112 .value_counts()"
   ]
  },
  {
   "cell_type": "code",
   "execution_count": 34,
   "metadata": {
    "collapsed": false
   },
   "outputs": [
    {
     "data": {
      "text/plain": [
       "sim    62.69\n",
       "não    37.31\n",
       "Name: V06112, dtype: float64"
      ]
     },
     "execution_count": 34,
     "metadata": {},
     "output_type": "execute_result"
    }
   ],
   "source": [
    "celular_ocorrencia = b.V06112.value_counts(True)*100 \n",
    "celular_ocorrencia.round(decimals=2) "
   ]
  },
  {
   "cell_type": "code",
   "execution_count": 35,
   "metadata": {
    "collapsed": false
   },
   "outputs": [
    {
     "data": {
      "text/plain": [
       "<matplotlib.axes._subplots.AxesSubplot at 0x7741f5a080>"
      ]
     },
     "execution_count": 35,
     "metadata": {},
     "output_type": "execute_result"
    },
    {
     "data": {
      "image/png": "[encoded data removed]",
      "text/plain": [
       "<matplotlib.figure.Figure at 0x7741f4a4e0>"
      ]
     },
     "metadata": {},
     "output_type": "display_data"
    }
   ],
   "source": [
    "celular_ocorrencia .plot(kind=\"pie\")"
   ]
  },
  {
   "cell_type": "code",
   "execution_count": 36,
   "metadata": {
    "collapsed": false
   },
   "outputs": [
    {
     "data": {
      "text/html": [
       "<div>\n",
       "<table border=\"1\" class=\"dataframe\">\n",
       "  <thead>\n",
       "    <tr style=\"text-align: right;\">\n",
       "      <th>V06112</th>\n",
       "      <th>sim</th>\n",
       "      <th>não</th>\n",
       "    </tr>\n",
       "    <tr>\n",
       "      <th>V4728</th>\n",
       "      <th></th>\n",
       "      <th></th>\n",
       "    </tr>\n",
       "  </thead>\n",
       "  <tbody>\n",
       "    <tr>\n",
       "      <th>urbana</th>\n",
       "      <td>16039</td>\n",
       "      <td>8114</td>\n",
       "    </tr>\n",
       "    <tr>\n",
       "      <th>urbana1</th>\n",
       "      <td>237</td>\n",
       "      <td>123</td>\n",
       "    </tr>\n",
       "    <tr>\n",
       "      <th>urbana2</th>\n",
       "      <td>93</td>\n",
       "      <td>43</td>\n",
       "    </tr>\n",
       "    <tr>\n",
       "      <th>rural</th>\n",
       "      <td>46</td>\n",
       "      <td>26</td>\n",
       "    </tr>\n",
       "    <tr>\n",
       "      <th>rural1</th>\n",
       "      <td>204</td>\n",
       "      <td>354</td>\n",
       "    </tr>\n",
       "    <tr>\n",
       "      <th>rural2</th>\n",
       "      <td>5</td>\n",
       "      <td>5</td>\n",
       "    </tr>\n",
       "    <tr>\n",
       "      <th>rural3</th>\n",
       "      <td>13</td>\n",
       "      <td>8</td>\n",
       "    </tr>\n",
       "    <tr>\n",
       "      <th>rural4</th>\n",
       "      <td>1844</td>\n",
       "      <td>2327</td>\n",
       "    </tr>\n",
       "  </tbody>\n",
       "</table>\n",
       "</div>"
      ],
      "text/plain": [
       "V06112     sim   não\n",
       "V4728               \n",
       "urbana   16039  8114\n",
       "urbana1    237   123\n",
       "urbana2     93    43\n",
       "rural       46    26\n",
       "rural1     204   354\n",
       "rural2       5     5\n",
       "rural3      13     8\n",
       "rural4    1844  2327"
      ]
     },
     "execution_count": 36,
     "metadata": {},
     "output_type": "execute_result"
    }
   ],
   "source": [
    "ct2 = pd.crosstab(b.V4728,b.V06112)\n",
    "ct2"
   ]
  },
  {
   "cell_type": "code",
   "execution_count": 37,
   "metadata": {
    "collapsed": false
   },
   "outputs": [
    {
     "data": {
      "text/plain": [
       "<matplotlib.text.Text at 0x77412b0208>"
      ]
     },
     "execution_count": 37,
     "metadata": {},
     "output_type": "execute_result"
    },
    {
     "data": {
      "image/png": "[encoded data removed]",
      "text/plain": [
       "<matplotlib.figure.Figure at 0x77411637b8>"
      ]
     },
     "metadata": {},
     "output_type": "display_data"
    }
   ],
   "source": [
    "ct2.plot(kind=\"bar\",stacked=True)\n",
    "plt.legend(loc='center left', bbox_to_anchor=(1, 0.5))\n",
    "plt.xlabel('celular')\n",
    "plt.ylabel('Quantidade')"
   ]
  },
  {
   "cell_type": "code",
   "execution_count": 38,
   "metadata": {
    "collapsed": false
   },
   "outputs": [
    {
     "data": {
      "text/html": [
       "<div>\n",
       "<table border=\"1\" class=\"dataframe\">\n",
       "  <thead>\n",
       "    <tr style=\"text-align: right;\">\n",
       "      <th>V0404</th>\n",
       "      <th>Indigena</th>\n",
       "      <th>Branca</th>\n",
       "      <th>Preta</th>\n",
       "      <th>Amarela</th>\n",
       "      <th>Parda</th>\n",
       "    </tr>\n",
       "    <tr>\n",
       "      <th>V4728</th>\n",
       "      <th></th>\n",
       "      <th></th>\n",
       "      <th></th>\n",
       "      <th></th>\n",
       "      <th></th>\n",
       "    </tr>\n",
       "  </thead>\n",
       "  <tbody>\n",
       "    <tr>\n",
       "      <th>urbana</th>\n",
       "      <td>72</td>\n",
       "      <td>13699</td>\n",
       "      <td>1972</td>\n",
       "      <td>182</td>\n",
       "      <td>8228</td>\n",
       "    </tr>\n",
       "    <tr>\n",
       "      <th>urbana1</th>\n",
       "      <td>1</td>\n",
       "      <td>223</td>\n",
       "      <td>24</td>\n",
       "      <td>0</td>\n",
       "      <td>112</td>\n",
       "    </tr>\n",
       "    <tr>\n",
       "      <th>urbana2</th>\n",
       "      <td>0</td>\n",
       "      <td>69</td>\n",
       "      <td>17</td>\n",
       "      <td>1</td>\n",
       "      <td>49</td>\n",
       "    </tr>\n",
       "    <tr>\n",
       "      <th>rural</th>\n",
       "      <td>1</td>\n",
       "      <td>29</td>\n",
       "      <td>10</td>\n",
       "      <td>0</td>\n",
       "      <td>32</td>\n",
       "    </tr>\n",
       "    <tr>\n",
       "      <th>rural1</th>\n",
       "      <td>1</td>\n",
       "      <td>154</td>\n",
       "      <td>56</td>\n",
       "      <td>3</td>\n",
       "      <td>344</td>\n",
       "    </tr>\n",
       "    <tr>\n",
       "      <th>rural2</th>\n",
       "      <td>0</td>\n",
       "      <td>2</td>\n",
       "      <td>2</td>\n",
       "      <td>0</td>\n",
       "      <td>6</td>\n",
       "    </tr>\n",
       "    <tr>\n",
       "      <th>rural3</th>\n",
       "      <td>0</td>\n",
       "      <td>4</td>\n",
       "      <td>1</td>\n",
       "      <td>1</td>\n",
       "      <td>15</td>\n",
       "    </tr>\n",
       "    <tr>\n",
       "      <th>rural4</th>\n",
       "      <td>12</td>\n",
       "      <td>2134</td>\n",
       "      <td>195</td>\n",
       "      <td>13</td>\n",
       "      <td>1817</td>\n",
       "    </tr>\n",
       "  </tbody>\n",
       "</table>\n",
       "</div>"
      ],
      "text/plain": [
       "V0404    Indigena  Branca  Preta  Amarela  Parda\n",
       "V4728                                           \n",
       "urbana         72   13699   1972      182   8228\n",
       "urbana1         1     223     24        0    112\n",
       "urbana2         0      69     17        1     49\n",
       "rural           1      29     10        0     32\n",
       "rural1          1     154     56        3    344\n",
       "rural2          0       2      2        0      6\n",
       "rural3          0       4      1        1     15\n",
       "rural4         12    2134    195       13   1817"
      ]
     },
     "execution_count": 38,
     "metadata": {},
     "output_type": "execute_result"
    }
   ],
   "source": [
    "ct3 = pd.crosstab(b.V4728,b.V0404)\n",
    "ct3"
   ]
  },
  {
   "cell_type": "code",
   "execution_count": 39,
   "metadata": {
    "collapsed": false
   },
   "outputs": [
    {
     "data": {
      "text/plain": [
       "<matplotlib.text.Text at 0x7740f908d0>"
      ]
     },
     "execution_count": 39,
     "metadata": {},
     "output_type": "execute_result"
    },
    {
     "data": {
      "image/png": "[encoded data removed]",
      "text/plain": [
       "<matplotlib.figure.Figure at 0x7741eb2eb8>"
      ]
     },
     "metadata": {},
     "output_type": "display_data"
    }
   ],
   "source": [
    "ct3.plot(kind=\"bar\",stacked=True)\n",
    "plt.legend(loc='center left', bbox_to_anchor=(1, 0.5))\n",
    "plt.xlabel('celular')\n",
    "plt.ylabel('Quantidade')"
   ]
  },
  {
   "cell_type": "code",
   "execution_count": 40,
   "metadata": {
    "collapsed": false
   },
   "outputs": [
    {
     "data": {
      "text/plain": [
       "2.0    3440\n",
       "1.0    2113\n",
       "3.0    1338\n",
       "4.0     662\n",
       "5.0     434\n",
       "6.0      89\n",
       "7.0      66\n",
       "Name: V9891, dtype: int64"
      ]
     },
     "execution_count": 40,
     "metadata": {},
     "output_type": "execute_result"
    }
   ],
   "source": [
    "b.V9891.value_counts()"
   ]
  },
  {
   "cell_type": "code",
   "execution_count": 81,
   "metadata": {
    "collapsed": false
   },
   "outputs": [
    {
     "data": {
      "text/plain": [
       "10 a 14 anos    42.250061\n",
       "Até 9 anos      25.951855\n",
       "15 a 17 anos    16.433309\n",
       "18 a 19 anos     8.130680\n",
       "20 a 24 anos     5.330386\n",
       "25 a 29 anos     1.093098\n",
       "30 ou mais       0.810612\n",
       "Name: V9891, dtype: float64"
      ]
     },
     "execution_count": 81,
     "metadata": {},
     "output_type": "execute_result"
    }
   ],
   "source": [
    "b.V9891 = b.V9891 .astype('category')\n",
    "b.V9891 .cat.categories = ('Até 9 anos', '10 a 14 anos', '15 a 17 anos', '18 a 19 anos', '20 a 24 anos', '25 a 29 anos', '30 ou mais')\n",
    "idade_trabalho=b.V9891 .value_counts(True)*100\n",
    "idade_trabalho"
   ]
  },
  {
   "cell_type": "code",
   "execution_count": 84,
   "metadata": {
    "collapsed": false
   },
   "outputs": [
    {
     "data": {
      "text/plain": [
       "<matplotlib.axes._subplots.AxesSubplot at 0x77103a48d0>"
      ]
     },
     "execution_count": 84,
     "metadata": {},
     "output_type": "execute_result"
    },
    {
     "data": {
      "image/png": "[encoded data removed]",
      "text/plain": [
       "<matplotlib.figure.Figure at 0x771053ada0>"
      ]
     },
     "metadata": {},
     "output_type": "display_data"
    }
   ],
   "source": [
    "idade_trabalho.plot(kind=\"pie\",title=\"Idade que começou a trabalhar\")"
   ]
  },
  {
   "cell_type": "code",
   "execution_count": 42,
   "metadata": {
    "collapsed": false
   },
   "outputs": [
    {
     "data": {
      "text/plain": [
       "count     29481.000000\n",
       "mean       1988.890608\n",
       "std        3214.672797\n",
       "min         480.000000\n",
       "25%         678.000000\n",
       "50%        1050.000000\n",
       "75%        2000.000000\n",
       "max      133500.000000\n",
       "Name: V4720, dtype: float64"
      ]
     },
     "execution_count": 42,
     "metadata": {},
     "output_type": "execute_result"
    }
   ],
   "source": [
    "salarios = b.V4720\n",
    "salarios.describe()"
   ]
  },
  {
   "cell_type": "code",
   "execution_count": 43,
   "metadata": {
    "collapsed": false
   },
   "outputs": [
    {
     "data": {
      "text/plain": [
       "count    29481.000000\n",
       "mean        10.350871\n",
       "std          1.119937\n",
       "min          8.906891\n",
       "25%          9.405141\n",
       "50%         10.036174\n",
       "75%         10.965784\n",
       "max         17.026480\n",
       "Name: V4720, dtype: float64"
      ]
     },
     "execution_count": 43,
     "metadata": {},
     "output_type": "execute_result"
    }
   ],
   "source": [
    "salario_log2=np.log2(salarios)\n",
    "salario_log2.describe()"
   ]
  },
  {
   "cell_type": "code",
   "execution_count": 44,
   "metadata": {
    "collapsed": true
   },
   "outputs": [],
   "source": [
    "faixas1 = ( 8.906891,9.16,9.32,9.48,9.64,9.8,9.96,10.120000000000001,10.280000000000001,10.440000000000001,10.600000000000001,10.760000000000002,10.920000000000002,11.080000000000002,11.240000000000002,11.400000000000002,11.560000000000002,11.720000000000002,11.880000000000003,12.040000000000003,12.200000000000003,12.360000000000003,12.520000000000003,12.680000000000003,12.840000000000003,13.000000000000004,13.160000000000004,13.320000000000004,13.480000000000004,13.640000000000004,13.800000000000004,13.960000000000004,14.120000000000005,14.280000000000005,14.440000000000005,14.600000000000005,14.760000000000005,14.920000000000005,15.080000000000005,15.240000000000006,15.400000000000006,15.560000000000006,15.720000000000006,15.880000000000006,16.040000000000006,16.200000000000006,16.360000000000007,16.520000000000007,16.680000000000007,16.840000000000007,17.037)\n",
    "new_index1=[ 8.906891,9.16,9.32,9.48,9.64,9.8,9.96,10.120000000000001,10.280000000000001,10.440000000000001,10.600000000000001,10.760000000000002,10.920000000000002,11.080000000000002,11.240000000000002,11.400000000000002,11.560000000000002,11.720000000000002,11.880000000000003,12.040000000000003,12.200000000000003,12.360000000000003,12.520000000000003,12.680000000000003,12.840000000000003,13.000000000000004,13.160000000000004,13.320000000000004,13.480000000000004,13.640000000000004,13.800000000000004,13.960000000000004,14.120000000000005,14.280000000000005,14.440000000000005,14.600000000000005,14.760000000000005,14.920000000000005,15.080000000000005,15.240000000000006,15.400000000000006,15.560000000000006,15.720000000000006,15.880000000000006,16.040000000000006,16.200000000000006,16.360000000000007,16.520000000000007,16.680000000000007,16.840000000000007,17.03]"
   ]
  },
  {
   "cell_type": "code",
   "execution_count": 45,
   "metadata": {
    "collapsed": false
   },
   "outputs": [
    {
     "data": {
      "text/plain": [
       "8.906891         1.0\n",
       "9.160000        26.0\n",
       "9.320000     11704.0\n",
       "9.480000       728.0\n",
       "9.640000      1011.0\n",
       "9.800000       701.0\n",
       "9.960000       997.0\n",
       "10.120000      933.0\n",
       "10.280000     2849.0\n",
       "10.440000     1061.0\n",
       "10.600000      903.0\n",
       "10.760000      785.0\n",
       "10.920000     1209.0\n",
       "11.080000      805.0\n",
       "11.240000      850.0\n",
       "11.400000      839.0\n",
       "11.560000      398.0\n",
       "11.720000      472.0\n",
       "11.880000      556.0\n",
       "12.040000      303.0\n",
       "12.200000      412.0\n",
       "12.360000      218.0\n",
       "12.520000      314.0\n",
       "12.680000      242.0\n",
       "12.840000      210.0\n",
       "13.000000      144.0\n",
       "13.160000      152.0\n",
       "13.320000      113.0\n",
       "13.480000      102.0\n",
       "13.640000      112.0\n",
       "13.800000       69.0\n",
       "13.960000       64.0\n",
       "14.120000       40.0\n",
       "14.280000       64.0\n",
       "14.440000       25.0\n",
       "14.600000       17.0\n",
       "14.760000       11.0\n",
       "14.920000       11.0\n",
       "15.080000        9.0\n",
       "15.240000        7.0\n",
       "15.400000        0.0\n",
       "15.560000        3.0\n",
       "15.720000        2.0\n",
       "15.880000        1.0\n",
       "16.040000        2.0\n",
       "16.200000        3.0\n",
       "16.360000        0.0\n",
       "16.520000        0.0\n",
       "16.680000        1.0\n",
       "16.840000        1.0\n",
       "17.030000        NaN\n",
       "Name: V4720, dtype: float64"
      ]
     },
     "execution_count": 45,
     "metadata": {},
     "output_type": "execute_result"
    }
   ],
   "source": [
    "faixa_salario=salario_log2.value_counts(bins=faixas1)\n",
    "d=faixa_salario.reindex(new_index1)\n",
    "d"
   ]
  },
  {
   "cell_type": "code",
   "execution_count": 46,
   "metadata": {
    "collapsed": true
   },
   "outputs": [],
   "source": [
    "faixas3=(8,9,10,11,12,13,14,15,16,17)\n",
    "new_index3=[8,9,10,11,12,13,14,15,16,17]"
   ]
  },
  {
   "cell_type": "code",
   "execution_count": 47,
   "metadata": {
    "collapsed": false
   },
   "outputs": [
    {
     "data": {
      "text/plain": [
       "8         2.0\n",
       "9     14637.0\n",
       "10     8007.0\n",
       "11     4073.0\n",
       "12     1809.0\n",
       "13      712.0\n",
       "14      206.0\n",
       "15       27.0\n",
       "16        7.0\n",
       "17        NaN\n",
       "Name: V4720, dtype: float64"
      ]
     },
     "execution_count": 47,
     "metadata": {},
     "output_type": "execute_result"
    }
   ],
   "source": [
    "faixa_salario1=salario_log2.value_counts(bins=faixas3)\n",
    "f=faixa_salario1.reindex(new_index3)\n",
    "f"
   ]
  },
  {
   "cell_type": "code",
   "execution_count": 48,
   "metadata": {
    "collapsed": false
   },
   "outputs": [
    {
     "data": {
      "text/plain": [
       "1.0        8.0\n",
       "0.0        6.0\n",
       "64.0       4.0\n",
       "3.0        4.0\n",
       "2.0        4.0\n",
       "11.0       4.0\n",
       "69.0       2.0\n",
       "933.0      2.0\n",
       "903.0      2.0\n",
       "9.0        2.0\n",
       "210.0      2.0\n",
       "850.0      2.0\n",
       "398.0      2.0\n",
       "242.0      2.0\n",
       "785.0      2.0\n",
       "1061.0     2.0\n",
       "472.0      2.0\n",
       "728.0      2.0\n",
       "25.0       2.0\n",
       "26.0       2.0\n",
       "412.0      2.0\n",
       "112.0      2.0\n",
       "701.0      2.0\n",
       "303.0      2.0\n",
       "314.0      2.0\n",
       "1209.0     2.0\n",
       "11704.0    2.0\n",
       "1011.0     2.0\n",
       "805.0      2.0\n",
       "113.0      2.0\n",
       "218.0      2.0\n",
       "556.0      2.0\n",
       "144.0      2.0\n",
       "152.0      2.0\n",
       "839.0      2.0\n",
       "40.0       2.0\n",
       "17.0       2.0\n",
       "102.0      2.0\n",
       "997.0      2.0\n",
       "7.0        2.0\n",
       "2849.0     2.0\n",
       "Name: V4720, dtype: float64"
      ]
     },
     "execution_count": 48,
     "metadata": {},
     "output_type": "execute_result"
    }
   ],
   "source": [
    "salario_ocorrencia =d.value_counts(True)*100 \n",
    "e=salario_ocorrencia.round(decimals=2) \n",
    "e"
   ]
  },
  {
   "cell_type": "code",
   "execution_count": 49,
   "metadata": {
    "collapsed": false
   },
   "outputs": [
    {
     "data": {
      "text/plain": [
       "<matplotlib.axes._subplots.AxesSubplot at 0x777a53eef0>"
      ]
     },
     "execution_count": 49,
     "metadata": {},
     "output_type": "execute_result"
    },
    {
     "data": {
      "image/png": "[encoded data removed]",
      "text/plain": [
       "<matplotlib.figure.Figure at 0x777a513978>"
      ]
     },
     "metadata": {},
     "output_type": "display_data"
    }
   ],
   "source": [
    "fig2, ax2 = plt.subplots()\n",
    "ax2.set_yscale('log')\n",
    "\n",
    "np.log2(salarios).plot(kind='hist', bins=faixas3, color=('red'), legend=False)"
   ]
  },
  {
   "cell_type": "code",
   "execution_count": 71,
   "metadata": {
    "collapsed": false
   },
   "outputs": [
    {
     "data": {
      "text/plain": [
       "<matplotlib.axes._subplots.AxesSubplot at 0x77106f2e48>"
      ]
     },
     "execution_count": 71,
     "metadata": {},
     "output_type": "execute_result"
    },
    {
     "data": {
      "image/png": "[encoded data removed]",
      "text/plain": [
       "<matplotlib.figure.Figure at 0x7710713208>"
      ]
     },
     "metadata": {},
     "output_type": "display_data"
    }
   ],
   "source": [
    "fig1, ax1 = plt.subplots()\n",
    "ax1.set_yscale('log')\n",
    "\n",
    "np.log2(salarios).plot(kind='hist', bins=faixas1, color=('red'), legend=False,x=None, y='renda na base log2',)"
   ]
  },
  {
   "cell_type": "code",
   "execution_count": 70,
   "metadata": {
    "collapsed": false
   },
   "outputs": [
    {
     "data": {
      "image/png": "[encoded data removed]",
      "text/plain": [
       "<matplotlib.figure.Figure at 0x7710688710>"
      ]
     },
     "metadata": {},
     "output_type": "display_data"
    }
   ],
   "source": [
    "plot_box=np.log2(salarios).plot(kind='box', color=('red'),title='renda na base log2',x=None, y='renda',)\n",
    "\n"
   ]
  },
  {
   "cell_type": "code",
   "execution_count": 52,
   "metadata": {
    "collapsed": false
   },
   "outputs": [
    {
     "data": {
      "text/plain": [
       "-0.024205095330013856"
      ]
     },
     "execution_count": 52,
     "metadata": {},
     "output_type": "execute_result"
    }
   ],
   "source": [
    "b.V8005.corr(b.V4720)"
   ]
  },
  {
   "cell_type": "code",
   "execution_count": 53,
   "metadata": {
    "collapsed": false
   },
   "outputs": [
    {
     "data": {
      "text/plain": [
       "<matplotlib.text.Text at 0x770f5e4278>"
      ]
     },
     "execution_count": 53,
     "metadata": {},
     "output_type": "execute_result"
    },
    {
     "data": {
      "image/png": "[encoded data removed]",
      "text/plain": [
       "<matplotlib.figure.Figure at 0x770f5d9fd0>"
      ]
     },
     "metadata": {},
     "output_type": "display_data"
    }
   ],
   "source": [
    "w= b.V8005.cov(b.V4720) / b.V8005.var()\n",
    "z =b.V4720.mean() - w * b.V8005.mean()\n",
    "plot1=b.plot.scatter(x='V8005', y='V4720',color='red')\n",
    "\n",
    "import matplotlib.pyplot as plt\n",
    "plt.plot((b.V8005.min(), b.V8005.max()), (z + w * b.V8005.min(), z + w * b.V8005.max()), color='blue')\n",
    "plot1.set_xlabel('idade aposentados')\n",
    "plot1.set_ylabel('renda dos aposentados')\n"
   ]
  },
  {
   "cell_type": "code",
   "execution_count": 57,
   "metadata": {
    "collapsed": false
   },
   "outputs": [
    {
     "data": {
      "text/html": [
       "<div>\n",
       "<table border=\"1\" class=\"dataframe\">\n",
       "  <thead>\n",
       "    <tr style=\"text-align: right;\">\n",
       "      <th></th>\n",
       "      <th>Unnamed: 0</th>\n",
       "      <th>V0101</th>\n",
       "      <th>UF</th>\n",
       "      <th>V0102</th>\n",
       "      <th>V0103</th>\n",
       "      <th>V0301</th>\n",
       "      <th>V0302</th>\n",
       "      <th>V3031</th>\n",
       "      <th>V3032</th>\n",
       "      <th>V3033</th>\n",
       "      <th>...</th>\n",
       "      <th>V4741</th>\n",
       "      <th>V4742</th>\n",
       "      <th>V4743</th>\n",
       "      <th>V4745</th>\n",
       "      <th>V4746</th>\n",
       "      <th>V4747</th>\n",
       "      <th>V4748</th>\n",
       "      <th>V4749</th>\n",
       "      <th>V4750</th>\n",
       "      <th>V9993</th>\n",
       "    </tr>\n",
       "  </thead>\n",
       "  <tbody>\n",
       "    <tr>\n",
       "      <th>13</th>\n",
       "      <td>538</td>\n",
       "      <td>2013</td>\n",
       "      <td>11</td>\n",
       "      <td>139</td>\n",
       "      <td>1</td>\n",
       "      <td>2</td>\n",
       "      <td>Feminino</td>\n",
       "      <td>28</td>\n",
       "      <td>9</td>\n",
       "      <td>1958</td>\n",
       "      <td>...</td>\n",
       "      <td>3.0</td>\n",
       "      <td>4766.0</td>\n",
       "      <td>7.0</td>\n",
       "      <td>7</td>\n",
       "      <td>1.0</td>\n",
       "      <td>1.0</td>\n",
       "      <td>1.0</td>\n",
       "      <td>1.0</td>\n",
       "      <td>4766.0</td>\n",
       "      <td>20150428</td>\n",
       "    </tr>\n",
       "    <tr>\n",
       "      <th>716</th>\n",
       "      <td>17809</td>\n",
       "      <td>2013</td>\n",
       "      <td>13</td>\n",
       "      <td>1183</td>\n",
       "      <td>3</td>\n",
       "      <td>2</td>\n",
       "      <td>Feminino</td>\n",
       "      <td>7</td>\n",
       "      <td>6</td>\n",
       "      <td>1948</td>\n",
       "      <td>...</td>\n",
       "      <td>2.0</td>\n",
       "      <td>6339.0</td>\n",
       "      <td>7.0</td>\n",
       "      <td>7</td>\n",
       "      <td>2.0</td>\n",
       "      <td>NaN</td>\n",
       "      <td>2.0</td>\n",
       "      <td>1.0</td>\n",
       "      <td>6339.0</td>\n",
       "      <td>20150428</td>\n",
       "    </tr>\n",
       "    <tr>\n",
       "      <th>718</th>\n",
       "      <td>17876</td>\n",
       "      <td>2013</td>\n",
       "      <td>13</td>\n",
       "      <td>1183</td>\n",
       "      <td>21</td>\n",
       "      <td>3</td>\n",
       "      <td>Masculino</td>\n",
       "      <td>27</td>\n",
       "      <td>7</td>\n",
       "      <td>1941</td>\n",
       "      <td>...</td>\n",
       "      <td>4.0</td>\n",
       "      <td>5625.0</td>\n",
       "      <td>7.0</td>\n",
       "      <td>7</td>\n",
       "      <td>1.0</td>\n",
       "      <td>2.0</td>\n",
       "      <td>2.0</td>\n",
       "      <td>1.0</td>\n",
       "      <td>5625.0</td>\n",
       "      <td>20150428</td>\n",
       "    </tr>\n",
       "    <tr>\n",
       "      <th>732</th>\n",
       "      <td>18053</td>\n",
       "      <td>2013</td>\n",
       "      <td>13</td>\n",
       "      <td>1221</td>\n",
       "      <td>13</td>\n",
       "      <td>1</td>\n",
       "      <td>Feminino</td>\n",
       "      <td>8</td>\n",
       "      <td>6</td>\n",
       "      <td>1955</td>\n",
       "      <td>...</td>\n",
       "      <td>3.0</td>\n",
       "      <td>1359.0</td>\n",
       "      <td>5.0</td>\n",
       "      <td>7</td>\n",
       "      <td>1.0</td>\n",
       "      <td>2.0</td>\n",
       "      <td>2.0</td>\n",
       "      <td>1.0</td>\n",
       "      <td>1359.0</td>\n",
       "      <td>20150428</td>\n",
       "    </tr>\n",
       "    <tr>\n",
       "      <th>736</th>\n",
       "      <td>18072</td>\n",
       "      <td>2013</td>\n",
       "      <td>13</td>\n",
       "      <td>1230</td>\n",
       "      <td>4</td>\n",
       "      <td>1</td>\n",
       "      <td>Feminino</td>\n",
       "      <td>5</td>\n",
       "      <td>6</td>\n",
       "      <td>1960</td>\n",
       "      <td>...</td>\n",
       "      <td>2.0</td>\n",
       "      <td>4425.0</td>\n",
       "      <td>7.0</td>\n",
       "      <td>7</td>\n",
       "      <td>2.0</td>\n",
       "      <td>NaN</td>\n",
       "      <td>NaN</td>\n",
       "      <td>2.0</td>\n",
       "      <td>4425.0</td>\n",
       "      <td>20150428</td>\n",
       "    </tr>\n",
       "  </tbody>\n",
       "</table>\n",
       "<p>5 rows × 331 columns</p>\n",
       "</div>"
      ],
      "text/plain": [
       "     Unnamed: 0  V0101  UF  V0102  V0103  V0301      V0302  V3031  V3032  \\\n",
       "13          538   2013  11    139      1      2   Feminino     28      9   \n",
       "716       17809   2013  13   1183      3      2   Feminino      7      6   \n",
       "718       17876   2013  13   1183     21      3  Masculino     27      7   \n",
       "732       18053   2013  13   1221     13      1   Feminino      8      6   \n",
       "736       18072   2013  13   1230      4      1   Feminino      5      6   \n",
       "\n",
       "     V3033    ...     V4741   V4742  V4743  V4745 V4746  V4747  V4748  V4749  \\\n",
       "13    1958    ...       3.0  4766.0    7.0      7   1.0    1.0    1.0    1.0   \n",
       "716   1948    ...       2.0  6339.0    7.0      7   2.0    NaN    2.0    1.0   \n",
       "718   1941    ...       4.0  5625.0    7.0      7   1.0    2.0    2.0    1.0   \n",
       "732   1955    ...       3.0  1359.0    5.0      7   1.0    2.0    2.0    1.0   \n",
       "736   1960    ...       2.0  4425.0    7.0      7   2.0    NaN    NaN    2.0   \n",
       "\n",
       "      V4750     V9993  \n",
       "13   4766.0  20150428  \n",
       "716  6339.0  20150428  \n",
       "718  5625.0  20150428  \n",
       "732  1359.0  20150428  \n",
       "736  4425.0  20150428  \n",
       "\n",
       "[5 rows x 331 columns]"
      ]
     },
     "execution_count": 57,
     "metadata": {},
     "output_type": "execute_result"
    }
   ],
   "source": [
    "Tabela_nova = b[(b.V6007=='Mestrado ou doutorado')]\n",
    "Tabela_nova.head()"
   ]
  },
  {
   "cell_type": "code",
   "execution_count": 55,
   "metadata": {
    "collapsed": false
   },
   "outputs": [
    {
     "data": {
      "text/plain": [
       "0.060691103358568692"
      ]
     },
     "execution_count": 55,
     "metadata": {},
     "output_type": "execute_result"
    }
   ],
   "source": [
    "Tabela_nova.V8005.corr(Tabela_nova.V4720)"
   ]
  },
  {
   "cell_type": "code",
   "execution_count": 56,
   "metadata": {
    "collapsed": false
   },
   "outputs": [
    {
     "data": {
      "text/plain": [
       "<matplotlib.text.Text at 0x770fb51f28>"
      ]
     },
     "execution_count": 56,
     "metadata": {},
     "output_type": "execute_result"
    },
    {
     "data": {
      "image/png": "[encoded data removed]",
      "text/plain": [
       "<matplotlib.figure.Figure at 0x770fe16080>"
      ]
     },
     "metadata": {},
     "output_type": "display_data"
    }
   ],
   "source": [
    "k= Tabela_nova.V8005.cov(b.V4720) / Tabela_nova.V8005.var()\n",
    "l =Tabela_nova.V4720.mean() - k * Tabela_nova.V8005.mean()\n",
    "plot2=Tabela_nova.plot.scatter(x='V8005', y='V4720',color='red')\n",
    "\n",
    "import matplotlib.pyplot as plt\n",
    "plt.plot((Tabela_nova.V8005.min(), Tabela_nova.V8005.max()), (l + k * Tabela_nova.V8005.min(), l + k * Tabela_nova.V8005.max()), color='blue')\n",
    "plot2.set_xlabel('idade aposentados')\n",
    "plot2.set_ylabel('renda dos aposentados')"
   ]
  },
  {
   "cell_type": "markdown",
   "metadata": {},
   "source": [
    "Maior parte masculina \n",
    "grande maioria na area urbana\n",
    "alguns pontos foras da curva com menos da idade de aposentadoria; \n",
    "70% dos aposentados possuem celular, na area rural pequena maioria não possui celular\n",
    "Maior quantidade dos aposentados são brancos, seguido dos pardos, leve reflexo da quantidade na população, que demonstra existirem mais pardos a brancos\n",
    "não existe coerrelação entre a idade dos aposentados e suas rendas, inclusive quando pegamos uma determinada faixa de graduação, como por exemplo aqueles que são doutores ou mestres, onde a correlaçao ficou num fator de 0.06, enquanto a correlção de renda com todos os aposentados ficou em -0.02\n",
    "Boxplot da renda nos mostra que existe uma grande quantidade de outliers, alem de demonstrar que existe uma grande variação nas rendas, podemos perceber tambem no boxplot, que a diferença entre o menor valor e o limite é muito grande, ate mesmo quando estamos utiliando uma base log2\n",
    "min         480.000000\n",
    "25%         678.000000\n",
    "50%        1050.000000\n",
    "75%        2000.000000\n",
    "max      133500.000000"
   ]
  },
  {
   "cell_type": "markdown",
   "metadata": {},
   "source": [
    "# Como caracterizar os aposentados da população brasileira?\n",
    "        Os aposentados do brasil, mesmo quadno vemos na legislação que eles precisam ter no minimo 65 anos (homem) ou 60 anos (mulher); podemos observar que existem alguns pequenos outlier de idade, que podem ser explicados pelo simples fato de terem sido aposentados por invalidez em muitos casos. Mesmo a pequena maioria da população, aproximadamente 51,5%, ser feminia a maior parte dos aposentados são homens, vivendo na area urbana. Mesmo com os pardos sendo a etnia que possui mais pessoas, seguida dos brancos, eles acabam invertedo na hora dos aposentados, onde a maior quantidade de aposentados são os brancos, seguido pelos pardos. Podemos odservar tambem uma grande diferença, não so na cultura, como no avaço da legislação no brasil, pois hoje, a regulamentação permite trabalho de menor como aprendiz a partir dos 14 anos, segundo site do tst (tribunal Superior de justiça, site :'http://www.tst.jus.br/noticias/-/asset_publisher/89Dk/content/regulamentacao-permite-trabalho-de-menor-como-aprendiz-a-partir-dos-14-anos'), enquanto a mais ou menos 57 anos atras pessoas com ate menos de 9 anos, aproximadamente 25% dos aposentados intrevistados, ja estavam trablhando, como vimos no grafico (Idade que começou a trabalhar), assim como os que tinham entre 10 e 14 anos que representam 45% dos hoje aposentados.\n",
    "        Os aposentados, mesmo tendo nascido aproximadamente no ano de 1955, na epoca em que as televisões estavam começando a tomar todas as casas ao redor do mundo, e bem na epoca em que foram criados os primeiro pagers, não tiveram medo da tecnologia, mesmo ainda tendo alguns que não possuem, quase 70% possuem celular e podemos perceber que essa pequena maioria que não possui se concetra na area rural, onde uma pequena maioria dos moradores não possuem.\n",
    "        Portanto, podemos dizer que o perfil dos aposentados brasileiros são: homens brancos que se adequaram a tecnologia e possuem celular, que vivem na area urbana e que trabalham desde muito pequenos, menos de 14 anos, onde 36% possuiam menos de 9 anos.\n",
    "        Um fator que não teve uma correlação muito clara com os aposentados, foi o de renda, no periodo, valores muito descrepantes entre o menor e o maior, variando entre 480 a 133500, quando um boxplot foi plotado para tentar explicar esses dados, descobrimos que a media era de 1050 reais a o terceiro quartil estava batendo em 2000 reais, o que demosntra que essa pessoas que tinham uma grande renda, são apenas uns outliers. Quando tentei cria uma correlação entre a renda e idade dos aposentados foi descoberto que não existia nenhuma correlação, pois o valor de de -0,02, e ate mesmo quando tentei pegar uma determinada faixa de graduação,  a correlação não passou de o,o6, quandoforam escolhidos os mestres ou doutores, portanto podemos dizer que não relação entre a idade do aposentado e sua renda."
   ]
  },
  {
   "cell_type": "markdown",
   "metadata": {},
   "source": [
    "b.dropna(axis=1, how='any', thresh=None, subset=None, inplace=False)"
   ]
  },
  {
   "cell_type": "markdown",
   "metadata": {},
   "source": [
    "dados.EDUCACAO.cat.categories = ('Analfabeto', '1o. Grau', '2o. Grau', 'Graduacao', 'Pos-Graduacao')\n",
    "~T.'codigo'.isnull() => para retirar nul do codigo\n",
    "~ não\n",
    "& and\n",
    "| or"
   ]
  },
  {
   "cell_type": "code",
   "execution_count": null,
   "metadata": {
    "collapsed": true
   },
   "outputs": [],
   "source": []
  }
 ],
 "metadata": {
  "anaconda-cloud": {},
  "kernelspec": {
   "display_name": "Python [Root]",
   "language": "python",
   "name": "Python [Root]"
  },
  "language_info": {
   "codemirror_mode": {
    "name": "ipython",
    "version": 3
   },
   "file_extension": ".py",
   "mimetype": "text/x-python",
   "name": "python",
   "nbconvert_exporter": "python",
   "pygments_lexer": "ipython3",
   "version": "3.5.2"
  }
 },
 "nbformat": 4,
 "nbformat_minor": 0
}
